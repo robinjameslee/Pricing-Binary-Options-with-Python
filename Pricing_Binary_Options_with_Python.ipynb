{
  "nbformat": 4,
  "nbformat_minor": 0,
  "metadata": {
    "colab": {
      "provenance": [],
      "authorship_tag": "ABX9TyNRLdpbA7RHFwzwMs4LX7DZ",
      "include_colab_link": true
    },
    "kernelspec": {
      "name": "python3",
      "display_name": "Python 3"
    },
    "language_info": {
      "name": "python"
    }
  },
  "cells": [
    {
      "cell_type": "markdown",
      "metadata": {
        "id": "view-in-github",
        "colab_type": "text"
      },
      "source": [
        "<a href=\"https://colab.research.google.com/github/robinjameslee/Pricing-Binary-Options-with-Python/blob/main/Pricing_Binary_Options_with_Python.ipynb\" target=\"_parent\"><img src=\"https://colab.research.google.com/assets/colab-badge.svg\" alt=\"Open In Colab\"/></a>"
      ]
    },
    {
      "cell_type": "code",
      "execution_count": 19,
      "metadata": {
        "id": "lKwTJpg8SHiN"
      },
      "outputs": [],
      "source": [
        "import numpy as np\n",
        "from numpy import sqrt, exp, log\n",
        "from scipy.stats import norm"
      ]
    },
    {
      "cell_type": "code",
      "source": [
        "# 1. First we create a function to calculate our binary option with monte carlo\n",
        "# S = spot\n",
        "# K = strike\n",
        "# t = time to maturity\n",
        "# r = risk-free rate\n",
        "# sigma = annualized volatility\n",
        "# option_type = Call or Put\n",
        "\n",
        "def monte_carlo_binary(S, K, t, r, sigma, option_type, payoff, iterations=10000000):\n",
        "    ST = S * exp(np.random.normal((r - sigma ** 2 / 2) * t, sigma * sqrt(t), size=iterations))\n",
        "\n",
        "    if option_type == 'Call':\n",
        "        res = len(ST[ST > K])\n",
        "    else:\n",
        "        res = len(ST[ST < K])\n",
        "    return res / iterations * payoff * exp(-r * t)"
      ],
      "metadata": {
        "id": "vQdSQKwcUhup"
      },
      "execution_count": 20,
      "outputs": []
    },
    {
      "cell_type": "code",
      "source": [
        "# 2. Then we create a function to calculate our binary option with Black Scholes Method\n",
        "N = norm.cdf\n",
        "\n",
        "def bs_binary(S, K, t, r, sigma, option_type, payoff):\n",
        "    d1 = (log(S / K) + (r + sigma ** 2 / 2) * t) / (sigma * sqrt(t))\n",
        "    d2 = d1 - sigma * sqrt(t)\n",
        "\n",
        "    if option_type == 'Call':\n",
        "      res = N(d2)\n",
        "    else:\n",
        "      res = N(-d2)\n",
        "    return exp(-r * t) * res * payoff"
      ],
      "metadata": {
        "id": "t3lIMF5rXcG3"
      },
      "execution_count": 21,
      "outputs": []
    },
    {
      "cell_type": "code",
      "source": [
        "# 3. Let's check how close the option prices using the two different methods\n",
        "\n",
        "S = 100 # spot stock price\n",
        "K = 120 # strike\n",
        "t = 1 # maturity \n",
        "r = 0.03  # risk free rate \n",
        "sigma = 0.2  # annualized volatility\n",
        "payoff = 100\n",
        "option_type = 'Call'\n",
        "iterations = 1000000\n",
        "\n",
        "mc_price = monte_carlo_binary(S, K, t, r, sigma, option_type, payoff, iterations)\n",
        "bs_price = bs_binary(S, K, t, r, sigma, option_type, payoff)\n",
        "\n",
        "print(f'Binary Option using Monte Carlo: {mc_price}')\n",
        "print(f'Binary Option using Black Scholes: {bs_price}')"
      ],
      "metadata": {
        "colab": {
          "base_uri": "https://localhost:8080/"
        },
        "id": "KUf1McDoW24t",
        "outputId": "5050cfa9-9db2-425f-d948-14a973a3bf6f"
      },
      "execution_count": 23,
      "outputs": [
        {
          "output_type": "stream",
          "name": "stdout",
          "text": [
            "Binary Option using Monte Carlo: 18.86449072664945\n",
            "Binary Option using Black Scholes: 18.87047770226204\n"
          ]
        }
      ]
    }
  ]
}